{
 "cells": [
  {
   "cell_type": "code",
   "execution_count": 1,
   "metadata": {},
   "outputs": [],
   "source": [
    "%matplotlib inline\n",
    "import numpy as np\n",
    "import matplotlib.pyplot as plt\n",
    "import emcee\n",
    "import batman\n",
    "import lightkurve\n",
    "from lightkurve import KeplerTargetPixelFile\n",
    "from lightkurve.lightcurve import LightCurve\n",
    "import astropy.io.fits as fits\n",
    "from astropy.io import ascii\n",
    "from scipy import interpolate\n",
    "import math\n",
    "import scipy.special"
   ]
  },
  {
   "cell_type": "code",
   "execution_count": 2,
   "metadata": {},
   "outputs": [],
   "source": [
    "desktop = '/Users/willwaalkes/Desktop/'\n",
    "\n",
    "def BATMAN_MODEL(Baseline, Rp, t = None):\n",
    "    #Next we create a TransitParams object to store the physical parameters describing the transit:\n",
    "\n",
    "    params = batman.TransitParams()\n",
    "    params.t0 = 0.                       #time of inferior conjunction\n",
    "    params.per = 39.09432                #period in hours\n",
    "    params.rp = Rp                       #planet radius (in units of stellar radii)\n",
    "    params.a = 16.                       #semi-major axis (in units of stellar radii)\n",
    "    params.inc = 90.                     #orbital inclination (in degrees)\n",
    "    params.ecc = 0.                      #eccentricity\n",
    "    params.w = 90.                       #longitude of periastron (in degrees)\n",
    "    params.u = [0.1956, 0.3700]          #limb darkening coefficients [u1, u2]\n",
    "    params.limb_dark = \"quadratic\"       #limb darkening model\n",
    "        \n",
    "    m = batman.TransitModel(params, t)    #initializes model\n",
    "    \n",
    "    flux = m.light_curve(params)*Baseline        #calculates light curve\n",
    "    return flux \n",
    "\n",
    "highres_times = np.linspace(-18, 2.5, 500)"
   ]
  },
  {
   "cell_type": "code",
   "execution_count": 3,
   "metadata": {},
   "outputs": [],
   "source": [
    "data_v1_blue = ascii.read(desktop+'Colorado/Research/GJ1132b/GJ1132_Codes/STIS_Codes/erg_visit1_blue.txt')\n",
    "data_v2_blue = ascii.read(desktop+'Colorado/Research/GJ1132b/GJ1132_Codes/STIS_Codes/erg_visit2_blue.txt')\n",
    "data_v1_red = ascii.read(desktop+'Colorado/Research/GJ1132b/GJ1132_Codes/STIS_Codes/erg_visit1_red.txt')\n",
    "data_v2_red = ascii.read(desktop+'Colorado/Research/GJ1132b/GJ1132_Codes/STIS_Codes/erg_visit2_red.txt')"
   ]
  },
  {
   "cell_type": "code",
   "execution_count": 4,
   "metadata": {},
   "outputs": [],
   "source": [
    "alldata = {}\n",
    "alldata['V1 Blue'] = data_v1_blue['Flux'],data_v1_blue['Error'],data_v1_blue['Time_hr']\n",
    "alldata['V1 Red'] = data_v1_red['Flux'],data_v1_red['Error'],data_v1_blue['Time_hr']\n",
    "alldata['V2 Blue'] = data_v2_blue['Flux'],data_v2_blue['Error'],data_v2_blue['Time_hr']\n",
    "alldata['V2 Red'] = data_v2_red['Flux'],data_v2_red['Error'],data_v2_blue['Time_hr']"
   ]
  },
  {
   "cell_type": "code",
   "execution_count": 5,
   "metadata": {},
   "outputs": [],
   "source": [
    "Posteriors = {}\n",
    "Posterior_bins = {}"
   ]
  },
  {
   "cell_type": "code",
   "execution_count": null,
   "metadata": {},
   "outputs": [],
   "source": []
  }
 ],
 "metadata": {
  "kernelspec": {
   "display_name": "Python 3",
   "language": "python",
   "name": "python3"
  },
  "language_info": {
   "codemirror_mode": {
    "name": "ipython",
    "version": 3
   },
   "file_extension": ".py",
   "mimetype": "text/x-python",
   "name": "python",
   "nbconvert_exporter": "python",
   "pygments_lexer": "ipython3",
   "version": "3.5.4"
  }
 },
 "nbformat": 4,
 "nbformat_minor": 2
}
